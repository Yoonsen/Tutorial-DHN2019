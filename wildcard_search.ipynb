{
 "cells": [
  {
   "cell_type": "markdown",
   "metadata": {},
   "source": [
    "### Preamble"
   ]
  },
  {
   "cell_type": "code",
   "execution_count": null,
   "metadata": {},
   "outputs": [],
   "source": [
    "!curl -s \"https://raw.githubusercontent.com/Yoonsen/Modules/master/module_update.py\" > \"module_update.py\""
   ]
  },
  {
   "cell_type": "code",
   "execution_count": null,
   "metadata": {},
   "outputs": [],
   "source": [
    "from module_update import update, css"
   ]
  },
  {
   "cell_type": "code",
   "execution_count": null,
   "metadata": {},
   "outputs": [],
   "source": [
    "css()"
   ]
  },
  {
   "cell_type": "markdown",
   "metadata": {},
   "source": [
    "# Find similar words\n",
    "\n",
    "Find spelling variants and OCR-errors"
   ]
  },
  {
   "cell_type": "code",
   "execution_count": null,
   "metadata": {},
   "outputs": [],
   "source": [
    "import nbtext as nb\n",
    "from nbtext import sorted_wildcardsearch\n"
   ]
  },
  {
   "cell_type": "markdown",
   "metadata": {},
   "source": [
    "### Legg inn ordet det søkes etter med * for åpne plasser.\n",
    "\n",
    "\n",
    "Use * as wildcard, and *factor* determines size of matching words, which gives a kind of Levenshtein-effekt. \n"
   ]
  },
  {
   "cell_type": "markdown",
   "metadata": {},
   "source": [
    "#### Look for OCR-errors"
   ]
  },
  {
   "cell_type": "code",
   "execution_count": null,
   "metadata": {},
   "outputs": [],
   "source": [
    "sorted_wildcardsearch(\n",
    "    {\n",
    "        'word': 'kj*lig*d',   # her legges selve søkeordet inn\n",
    "        'factor':3,           # factor bestemmer hvor mye lenger treffene skal være enn ordet med jokertegn.\n",
    "        'freq_lim':50,        # sett begrensninger på frekvensen, minimumsverdi\n",
    "        'limit':50            # begrensning på antall treff\n",
    "        \n",
    "    })"
   ]
  },
  {
   "cell_type": "markdown",
   "metadata": {},
   "source": [
    "#### Find inflections"
   ]
  },
  {
   "cell_type": "code",
   "execution_count": null,
   "metadata": {},
   "outputs": [],
   "source": [
    "sorted_wildcardsearch(\n",
    "    {\n",
    "        'word': 'barn*',   # her legges selve søkeordet inn\n",
    "        'factor':2,        # factor bestemmer hvor mye lenger treffene skal være enn ordet med jokertegn.\n",
    "        'freq_lim':50,     # sett begrensninger på frekvensen, minimumsverdi\n",
    "        'limit':50         # begrensning på antall treff\n",
    "        \n",
    "    })"
   ]
  },
  {
   "cell_type": "markdown",
   "metadata": {},
   "source": [
    "#### Find compounds"
   ]
  },
  {
   "cell_type": "code",
   "execution_count": null,
   "metadata": {},
   "outputs": [],
   "source": [
    "sorted_wildcardsearch(\n",
    "    {\n",
    "        'word': 'sitron*',   # her legges selve søkeordet inn\n",
    "        'factor':6,          # factor bestemmer hvor mye lenger treffene skal være enn ordet med jokertegn.\n",
    "        'freq_lim':50,       # sett begrensninger på frekvensen, minimumsverdi\n",
    "        'limit':50           # begrensning på antall treff\n",
    "        \n",
    "    })"
   ]
  },
  {
   "cell_type": "code",
   "execution_count": null,
   "metadata": {},
   "outputs": [],
   "source": []
  }
 ],
 "metadata": {
  "kernelspec": {
   "display_name": "Python 3",
   "language": "python",
   "name": "python3"
  },
  "language_info": {
   "codemirror_mode": {
    "name": "ipython",
    "version": 3
   },
   "file_extension": ".py",
   "mimetype": "text/x-python",
   "name": "python",
   "nbconvert_exporter": "python",
   "pygments_lexer": "ipython3",
   "version": "3.7.0"
  }
 },
 "nbformat": 4,
 "nbformat_minor": 2
}
