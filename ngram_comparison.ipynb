{
 "cells": [
  {
   "cell_type": "markdown",
   "metadata": {},
   "source": [
    "# N-grams\n",
    "\n",
    "This is a start to get to know the functionality. The theme is Simone de Beauvoir's thesis that women are secondary to men, and that they are associated with a passive role.\n",
    "\n",
    "We will do this through counts of the personal pronouns *han* and *hun*.\n",
    "\n",
    "The next two cells simply fetch some resources from Github."
   ]
  },
  {
   "cell_type": "code",
   "execution_count": null,
   "metadata": {},
   "outputs": [],
   "source": [
    "!curl -s \"https://raw.githubusercontent.com/Yoonsen/Modules/master/module_update.py\" > \"module_update.py\""
   ]
  },
  {
   "cell_type": "code",
   "execution_count": null,
   "metadata": {},
   "outputs": [],
   "source": [
    "from module_update import update, css"
   ]
  },
  {
   "cell_type": "code",
   "execution_count": null,
   "metadata": {},
   "outputs": [],
   "source": [
    "css()"
   ]
  },
  {
   "cell_type": "markdown",
   "metadata": {},
   "source": [
    "## Module *nbtext* has all the commands"
   ]
  },
  {
   "cell_type": "code",
   "execution_count": null,
   "metadata": {},
   "outputs": [],
   "source": [
    "import nbtext as nb\n",
    "from nbtext import difference\n",
    "%matplotlib inline"
   ]
  },
  {
   "cell_type": "markdown",
   "metadata": {},
   "source": [
    "### Fetch data from ngram-base\n",
    "\n",
    "Use command *nb_ngram()*, arguments like that on the [web](https://www.nb.no/sp_tjenester/beta/ngram_1/trends#ngram/query?terms=i%2C+p%C3%A5&lang=all&case_sens=0&freq=rel&corpus=bok)."
   ]
  },
  {
   "cell_type": "code",
   "execution_count": null,
   "metadata": {},
   "outputs": [],
   "source": [
    "pron = nb.nb_ngram('han, hun', years = (1980, 2000), smooth = 1, corpus = 'bok')\n",
    "pron"
   ]
  },
  {
   "cell_type": "markdown",
   "metadata": {},
   "source": [
    "## Resultatet er en dataramme\n",
    "\n",
    "Datarammer brukes flittig i alt fra ngrammer til tekstanalyse. Matrisene er en måte å representere kvantitative språklige data. Ikke så ulikt det noen kan være vant med fra excel-ark.\n",
    "\n",
    "Når en navn er knyttet til data, er det bare å skrive navnet i en celle for å se verdien, som gjort ovenfor. Vil du se et plot skriver du plot() bak variabelen."
   ]
  },
  {
   "cell_type": "code",
   "execution_count": null,
   "metadata": {
    "scrolled": true
   },
   "outputs": [],
   "source": [
    "pron.plot();"
   ]
  },
  {
   "cell_type": "markdown",
   "metadata": {},
   "source": [
    "Note the difference in distribution between the two pronouns."
   ]
  },
  {
   "cell_type": "markdown",
   "metadata": {},
   "source": [
    "Let us aggregate the numbers."
   ]
  },
  {
   "cell_type": "code",
   "execution_count": null,
   "metadata": {},
   "outputs": [],
   "source": [
    "pron.mean()['han']/pron.mean()['hun']"
   ]
  },
  {
   "cell_type": "code",
   "execution_count": null,
   "metadata": {},
   "outputs": [],
   "source": [
    "nb.frame(pron.mean())"
   ]
  },
  {
   "cell_type": "markdown",
   "metadata": {},
   "source": [
    "## Part two of the thesis\n",
    "\n",
    "Crunching the numbers. The ratio of han/hun = 2.3. We expect then also that all contexts with *han* are about 2.3 times more frequent than with *hun*.\n",
    "\n",
    "There is a command called *difference()* which checks the ratio between four items: x = c(A)/c(B) compared to y = A/B by calculating x/y, where c is some context and A is a common feature in the denominator. If *difference* is larger than 1, that means the the ratio c(A)/c(B) is higher than corresponding A/B, so c(A) is tied with A, if lower it means that the context c is tied with B. \n",
    "\n",
    "Let's look at an example.\n",
    "\n",
    "\n",
    "The first two contexts are the case variants:\n",
    "\n",
    "ham = acc(han), henne = acc(hun)\n",
    "hans = gen(han), hennes = gen(hun)\n"
   ]
  },
  {
   "cell_type": "code",
   "execution_count": null,
   "metadata": {},
   "outputs": [],
   "source": [
    "# ham = acc(han), henne = acc(hun): acc(han)/acc(hun) < han/hun\n",
    "difference('ham', 'henne', 'han','hun')"
   ]
  },
  {
   "cell_type": "code",
   "execution_count": null,
   "metadata": {},
   "outputs": [],
   "source": [
    "difference('hans', 'hennes', 'han', 'hun')"
   ]
  },
  {
   "cell_type": "markdown",
   "metadata": {},
   "source": [
    "## Contexts from bigrams\n",
    "\n",
    "Which verbs?"
   ]
  },
  {
   "cell_type": "code",
   "execution_count": null,
   "metadata": {},
   "outputs": [],
   "source": [
    "nb.difference('han mener', 'hun mener', 'han', 'hun')"
   ]
  },
  {
   "cell_type": "code",
   "execution_count": null,
   "metadata": {},
   "outputs": [],
   "source": [
    "nb.difference('han føler', 'hun føler', 'han', 'hun')"
   ]
  },
  {
   "cell_type": "code",
   "execution_count": null,
   "metadata": {},
   "outputs": [],
   "source": [
    "nb.difference('han gråter', 'hun gråter', 'han', 'hun')"
   ]
  },
  {
   "cell_type": "code",
   "execution_count": null,
   "metadata": {},
   "outputs": [],
   "source": [
    "nb.difference('han har grått', 'hun har grått', 'han', 'hun')"
   ]
  },
  {
   "cell_type": "markdown",
   "metadata": {},
   "source": [
    "## Gendered nouns"
   ]
  },
  {
   "cell_type": "code",
   "execution_count": null,
   "metadata": {},
   "outputs": [],
   "source": [
    "nb.difference('vesken hans', 'vesken hennes', 'hans', 'hennes')"
   ]
  },
  {
   "cell_type": "code",
   "execution_count": null,
   "metadata": {},
   "outputs": [],
   "source": [
    "nb.difference('bilen hans', 'bilen hennes', 'hans', 'hennes')"
   ]
  },
  {
   "cell_type": "markdown",
   "metadata": {},
   "source": [
    "## Other contexts using gendered nouns\n"
   ]
  },
  {
   "cell_type": "code",
   "execution_count": null,
   "metadata": {},
   "outputs": [],
   "source": [
    "nb.difference('rike menn', 'rike kvinner', 'menn', 'kvinner')"
   ]
  },
  {
   "cell_type": "code",
   "execution_count": null,
   "metadata": {},
   "outputs": [],
   "source": [
    "nb.difference('fattige menn', 'fattige kvinner', 'menn', 'kvinner')"
   ]
  },
  {
   "cell_type": "code",
   "execution_count": null,
   "metadata": {},
   "outputs": [],
   "source": [
    "nb.difference('smarte menn', 'smarte kvinner', 'menn', 'kvinner')"
   ]
  },
  {
   "cell_type": "markdown",
   "metadata": {},
   "source": [
    "# Exercise\n",
    "\n",
    "Repeat using newspaper data"
   ]
  },
  {
   "cell_type": "code",
   "execution_count": null,
   "metadata": {},
   "outputs": [],
   "source": [
    "nb.nb_ngram('han, hun', corpus='avis', years=(1980,2000),smooth=1).plot()"
   ]
  }
 ],
 "metadata": {
  "hide_input": false,
  "kernelspec": {
   "display_name": "Python 3",
   "language": "python",
   "name": "python3"
  },
  "language_info": {
   "codemirror_mode": {
    "name": "ipython",
    "version": 3
   },
   "file_extension": ".py",
   "mimetype": "text/x-python",
   "name": "python",
   "nbconvert_exporter": "python",
   "pygments_lexer": "ipython3",
   "version": "3.7.0"
  }
 },
 "nbformat": 4,
 "nbformat_minor": 2
}
