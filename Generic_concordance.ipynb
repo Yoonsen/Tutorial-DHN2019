{
 "cells": [
  {
   "cell_type": "markdown",
   "metadata": {},
   "source": [
    "#### Boot cell\n",
    "\n",
    "Skip if `module_update.py` is in same folder as notebook, next cell downloads this file which in turn will download other files."
   ]
  },
  {
   "cell_type": "code",
   "execution_count": 1,
   "metadata": {},
   "outputs": [],
   "source": [
    "!curl \"https://raw.githubusercontent.com/Yoonsen/Modules/master/module_update.py\" > \"module_update.py\""
   ]
  },
  {
   "cell_type": "markdown",
   "metadata": {},
   "source": [
    "#### Get essentials\n",
    "\n",
    "Import text and graph modules for analysis, and css for display"
   ]
  },
  {
   "cell_type": "code",
   "execution_count": 2,
   "metadata": {
    "slideshow": {
     "slide_type": "slide"
    }
   },
   "outputs": [],
   "source": [
    "from module_update import update, css, code_toggle"
   ]
  },
  {
   "cell_type": "code",
   "execution_count": 3,
   "metadata": {},
   "outputs": [
    {
     "data": {
      "text/html": [
       "<style>@import url(\n",
       "http://fonts.googleapis.com/css?family=Lato|Philosopher|Montserrat|Source+Code+Pro|Istok+Web|Philosopher|Assistant:200,400,700);\n",
       "\n",
       "/*\n",
       "#notebook-container {\n",
       "\t-webkit-box-shadow: none;\n",
       "\tbox-shadow: none;\n",
       "}\n",
       "*/\n",
       "\n",
       "h1, h2, h3, h4, h5, h6 {\n",
       "\tfont-family: 'Montserrat', sans-serif;\n",
       "\tline-height: 2em;\n",
       "    color: #004f99;\n",
       "    font-weight: 600;\n",
       "}\n",
       "\n",
       "h1 { font-size: 4.5em; }\n",
       "h2 { font-size: 4em; }\n",
       "h3 { font-size: 3.5em; }\n",
       "h4 { font-size: 3em; }\n",
       "h5 { font-size: 2.5em; color:DarkSlateGray; }\n",
       "h6 { font-size: 2em; }\n",
       "\n",
       "p {\n",
       "\tfont-family: 'Assistant', sans-serif; \n",
       "\tfont-size: 1.2em;\n",
       "\tline-height: 1.4em;\n",
       "\tcolor: black;\n",
       "}\n",
       "p code {\n",
       "\tfont-size:0.9em;\n",
       "}\n",
       "div.input_area {\n",
       "\tborder:none !important;\n",
       "\tborder-left:1px solid #ff851b !important\n",
       "}\n",
       "\n",
       "span.cm-keyword {\n",
       "\tcolor:#339966 !important;\n",
       "}\n",
       "span.nn {  /*span.cm-variable, span.cm-property*/\n",
       "\tcolor: #3399ff !important;\n",
       "}\n",
       "div.CodeMirror {\n",
       "\tfont-family: 'Inconsolata', monospace;\n",
       "\tfont-size: 1.1em;\n",
       "\t\n",
       "}\n",
       "</style>"
      ],
      "text/plain": [
       "<IPython.core.display.HTML object>"
      ]
     },
     "execution_count": 3,
     "metadata": {},
     "output_type": "execute_result"
    }
   ],
   "source": [
    "css()"
   ]
  },
  {
   "cell_type": "markdown",
   "metadata": {},
   "source": [
    "### Import modules, maybe update with overwrite=True"
   ]
  },
  {
   "cell_type": "code",
   "execution_count": 4,
   "metadata": {},
   "outputs": [
    {
     "data": {
      "text/markdown": [
       "Updated file `C:\\Users\\larsj\\Documents\\GitHub\\Tutorial-DHN2019\\graph_networkx_louvain.py`"
      ],
      "text/plain": [
       "<IPython.core.display.Markdown object>"
      ]
     },
     "metadata": {},
     "output_type": "display_data"
    }
   ],
   "source": [
    "update('graph_networkx_louvain')\n",
    "import nbtext as nb\n",
    "import graph_networkx_louvain as gnl\n",
    "from graph_networkx_louvain import cutdown, make_collocation_graph\n",
    "%matplotlib inline"
   ]
  },
  {
   "cell_type": "markdown",
   "metadata": {
    "slideshow": {
     "slide_type": "slide"
    }
   },
   "source": [
    "## Build a corpus\n",
    "\n",
    "Use URNs to build corpus. They can be fetched from various sources, like word documents, text files or just cut and paste. \n"
   ]
  },
  {
   "cell_type": "markdown",
   "metadata": {},
   "source": [
    "### Using API metadata\n",
    "\n",
    "dewey, emneord, navn , år, etc. Her kan [Webdewey](http://deweysearchno.pansoft.de/webdeweysearch/index.html) være til god hjelp."
   ]
  },
  {
   "cell_type": "code",
   "execution_count": 5,
   "metadata": {},
   "outputs": [
    {
     "data": {
      "text/plain": [
       "9"
      ]
     },
     "execution_count": 5,
     "metadata": {},
     "output_type": "execute_result"
    }
   ],
   "source": [
    "korpus = nb.get_urn({'ddk': '641.2%', 'subject':'frankrike', 'year':1980, 'next':50, 'limit':300})\n",
    "len(korpus)"
   ]
  },
  {
   "cell_type": "markdown",
   "metadata": {},
   "source": [
    "## Analyse"
   ]
  },
  {
   "cell_type": "code",
   "execution_count": 6,
   "metadata": {},
   "outputs": [
    {
     "data": {
      "text/html": [
       "<table><tr>\n",
       "                <td>\n",
       "                    <a href='http://www.nb.no/items/URN:NBN:no-nb_digibok_2016010807509?searchText=kvinner' target='_blank' style='text-decoration:none'>Ett år i Champagne, Gravdal, Tove, 2002</a>\n",
       "                </td>\n",
       "                <td>, vi har aldri sett</td>\n",
       "                <td>kvinner</td>\n",
       "                <td style='text-align:left'>blant gutta som pælmer tonnevis</td>\n",
       "            </tr>\n",
       "<tr>\n",
       "                <td>\n",
       "                    <a href='http://www.nb.no/items/URN:NBN:no-nb_digibok_2016010807509?searchText=kvinner' target='_blank' style='text-decoration:none'>Ett år i Champagne, Gravdal, Tove, 2002</a>\n",
       "                </td>\n",
       "                <td>lesfemmes sont belles - alle</td>\n",
       "                <td>kvinner</td>\n",
       "                <td style='text-align:left'>er vakre - erklærer fløtesangeren</td>\n",
       "            </tr>\n",
       "<tr>\n",
       "                <td>\n",
       "                    <a href='http://www.nb.no/items/URN:NBN:no-nb_digibok_2016010807509?searchText=kvinner' target='_blank' style='text-decoration:none'>Ett år i Champagne, Gravdal, Tove, 2002</a>\n",
       "                </td>\n",
       "                <td>seg for kjønnsbestemte fordommen Sterke</td>\n",
       "                <td>kvinner</td>\n",
       "                <td style='text-align:left'>har formet viktige deler av</td>\n",
       "            </tr>\n",
       "<tr>\n",
       "                <td>\n",
       "                    <a href='http://www.nb.no/items/URN:NBN:no-nb_digibok_2016010807509?searchText=kvinner' target='_blank' style='text-decoration:none'>Ett år i Champagne, Gravdal, Tove, 2002</a>\n",
       "                </td>\n",
       "                <td>Hun mener</td>\n",
       "                <td>kvinner</td>\n",
       "                <td style='text-align:left'>takler kriser som en ektefelles</td>\n",
       "            </tr>\n",
       "<tr>\n",
       "                <td>\n",
       "                    <a href='http://www.nb.no/items/URN:NBN:no-nb_digibok_2016010807509?searchText=kvinner' target='_blank' style='text-decoration:none'>Ett år i Champagne, Gravdal, Tove, 2002</a>\n",
       "                </td>\n",
       "                <td>er en perfekt vin for</td>\n",
       "                <td>kvinner</td>\n",
       "                <td style='text-align:left'>. Den er lett og</td>\n",
       "            </tr>\n",
       "<tr>\n",
       "                <td>\n",
       "                    <a href='http://www.nb.no/items/URN:NBN:no-nb_digibok_2012072338036?searchText=kvinner' target='_blank' style='text-decoration:none'>Cognac, Risnes, Per Asbjørn, 2006</a>\n",
       "                </td>\n",
       "                <td>Braastad . En gjeng skrålende</td>\n",
       "                <td>kvinner</td>\n",
       "                <td style='text-align:left'>kan høres fra den andre</td>\n",
       "            </tr>\n",
       "<tr>\n",
       "                <td>\n",
       "                    <a href='http://www.nb.no/items/URN:NBN:no-nb_digibok_2014030308128?searchText=kvinner' target='_blank' style='text-decoration:none'>To på reise, Opsahl, Nils H., 2001</a>\n",
       "                </td>\n",
       "                <td>Tromsøværingen sett for seg vakre</td>\n",
       "                <td>kvinner</td>\n",
       "                <td style='text-align:left'>, lekre biler , luksuriøse</td>\n",
       "            </tr>\n",
       "<tr>\n",
       "                <td>\n",
       "                    <a href='http://www.nb.no/items/URN:NBN:no-nb_digibok_2014030308128?searchText=kvinner' target='_blank' style='text-decoration:none'>To på reise, Opsahl, Nils H., 2001</a>\n",
       "                </td>\n",
       "                <td>. Her var få vakre</td>\n",
       "                <td>kvinner</td>\n",
       "                <td style='text-align:left'>og ingen fine biler .</td>\n",
       "            </tr>\n",
       "<tr>\n",
       "                <td>\n",
       "                    <a href='http://www.nb.no/items/URN:NBN:no-nb_digibok_2014030308128?searchText=kvinner' target='_blank' style='text-decoration:none'>To på reise, Opsahl, Nils H., 2001</a>\n",
       "                </td>\n",
       "                <td>seg . Her fantes middelaldrende</td>\n",
       "                <td>kvinner</td>\n",
       "                <td style='text-align:left'>som hadde brukt timer foran</td>\n",
       "            </tr>\n",
       "<tr>\n",
       "                <td>\n",
       "                    <a href='http://www.nb.no/items/URN:NBN:no-nb_digibok_2014030308128?searchText=kvinner' target='_blank' style='text-decoration:none'>To på reise, Opsahl, Nils H., 2001</a>\n",
       "                </td>\n",
       "                <td>solskinnet velsignet full av franske</td>\n",
       "                <td>kvinner</td>\n",
       "                <td style='text-align:left'>i høye hæler og korte</td>\n",
       "            </tr>\n",
       "<tr>\n",
       "                <td>\n",
       "                    <a href='http://www.nb.no/items/URN:NBN:no-nb_digibok_2015082048046?searchText=kvinner' target='_blank' style='text-decoration:none'>Historien om Cognac, Calvados og Armagnac, fire nordmenn, heldige giftermål og verdens beste brennevinshus, Bølgen, Toralf, 2003</a>\n",
       "                </td>\n",
       "                <td>Pour Femme - \" for</td>\n",
       "                <td>kvinner</td>\n",
       "                <td style='text-align:left'>” . Meg bekjent er</td>\n",
       "            </tr>\n",
       "<tr>\n",
       "                <td>\n",
       "                    <a href='http://www.nb.no/items/URN:NBN:no-nb_digibok_2012120738058?searchText=kvinner' target='_blank' style='text-decoration:none'>Chablis, Gjerdrum, Geir, 2004</a>\n",
       "                </td>\n",
       "                <td>menn hadde sans for vakre</td>\n",
       "                <td>kvinner</td>\n",
       "                <td style='text-align:left'>med store vinmarker i bakhand</td>\n",
       "            </tr>\n",
       "<tr>\n",
       "                <td>\n",
       "                    <a href='http://www.nb.no/items/URN:NBN:no-nb_digibok_2012120738058?searchText=kvinner' target='_blank' style='text-decoration:none'>Chablis, Gjerdrum, Geir, 2004</a>\n",
       "                </td>\n",
       "                <td>vakre</td>\n",
       "                <td>kvinner</td>\n",
       "                <td style='text-align:left'>med store</td>\n",
       "            </tr>\n",
       "</table>"
      ],
      "text/plain": [
       "<IPython.core.display.HTML object>"
      ]
     },
     "execution_count": 6,
     "metadata": {},
     "output_type": "execute_result"
    }
   ],
   "source": [
    "nb.get_urnkonk('kvinner', {'urns':korpus})"
   ]
  },
  {
   "cell_type": "code",
   "execution_count": null,
   "metadata": {},
   "outputs": [],
   "source": []
  }
 ],
 "metadata": {
  "kernelspec": {
   "display_name": "Python 3",
   "language": "python",
   "name": "python3"
  },
  "language_info": {
   "codemirror_mode": {
    "name": "ipython",
    "version": 3
   },
   "file_extension": ".py",
   "mimetype": "text/x-python",
   "name": "python",
   "nbconvert_exporter": "python",
   "pygments_lexer": "ipython3",
   "version": "3.7.1"
  }
 },
 "nbformat": 4,
 "nbformat_minor": 2
}
