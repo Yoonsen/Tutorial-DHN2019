{
 "cells": [
  {
   "cell_type": "markdown",
   "metadata": {},
   "source": [
    "#### Boot cell\n",
    "\n",
    "Skip if `module_update.py` is in same folder as notebook, next cell downloads this file which in turn will download other files."
   ]
  },
  {
   "cell_type": "code",
   "execution_count": 1,
   "metadata": {},
   "outputs": [
    {
     "name": "stderr",
     "output_type": "stream",
     "text": [
      "  % Total    % Received % Xferd  Average Speed   Time    Time     Time  Current\n",
      "                                 Dload  Upload   Total   Spent    Left  Speed\n",
      "\n",
      "  0     0    0     0    0     0      0      0 --:--:-- --:--:-- --:--:--     0\n",
      "  0     0    0     0    0     0      0      0 --:--:-- --:--:-- --:--:--     0\n",
      "100  3742  100  3742    0     0  10423      0 --:--:-- --:--:-- --:--:-- 10423\n"
     ]
    }
   ],
   "source": [
    "!curl \"https://raw.githubusercontent.com/Yoonsen/Modules/master/module_update.py\" > \"module_update.py\""
   ]
  },
  {
   "cell_type": "markdown",
   "metadata": {},
   "source": [
    "#### Get essentials\n",
    "\n",
    "Import text and graph modules for analysis, and css for display"
   ]
  },
  {
   "cell_type": "code",
   "execution_count": 2,
   "metadata": {
    "slideshow": {
     "slide_type": "slide"
    }
   },
   "outputs": [],
   "source": [
    "from module_update import update, css, code_toggle"
   ]
  },
  {
   "cell_type": "code",
   "execution_count": 3,
   "metadata": {},
   "outputs": [
    {
     "data": {
      "text/html": [
       "<style>@import url(\n",
       "http://fonts.googleapis.com/css?family=Lato|Philosopher|Montserrat|Source+Code+Pro|Istok+Web|Philosopher|Assistant:200,400,700);\n",
       "\n",
       "/*\n",
       "#notebook-container {\n",
       "\t-webkit-box-shadow: none;\n",
       "\tbox-shadow: none;\n",
       "}\n",
       "*/\n",
       "\n",
       "h1, h2, h3, h4, h5, h6 {\n",
       "\tfont-family: 'Montserrat', sans-serif;\n",
       "\tline-height: 2em;\n",
       "    color: #004f99;\n",
       "    font-weight: 600;\n",
       "}\n",
       "\n",
       "h1 { font-size: 4.5em; }\n",
       "h2 { font-size: 4em; }\n",
       "h3 { font-size: 3.5em; }\n",
       "h4 { font-size: 3em; }\n",
       "h5 { font-size: 2.5em; color:DarkSlateGray; }\n",
       "h6 { font-size: 2em; }\n",
       "\n",
       "p {\n",
       "\tfont-family: 'Assistant', sans-serif; \n",
       "\tfont-size: 1.2em;\n",
       "\tline-height: 1.4em;\n",
       "\tcolor: black;\n",
       "}\n",
       "p code {\n",
       "\tfont-size:0.9em;\n",
       "}\n",
       "div.input_area {\n",
       "\tborder:none !important;\n",
       "\tborder-left:1px solid #ff851b !important\n",
       "}\n",
       "\n",
       "span.cm-keyword {\n",
       "\tcolor:#339966 !important;\n",
       "}\n",
       "span.nn {  /*span.cm-variable, span.cm-property*/\n",
       "\tcolor: #3399ff !important;\n",
       "}\n",
       "div.CodeMirror {\n",
       "\tfont-family: 'Inconsolata', monospace;\n",
       "\tfont-size: 1.1em;\n",
       "\t\n",
       "}\n",
       "</style>"
      ],
      "text/plain": [
       "<IPython.core.display.HTML object>"
      ]
     },
     "execution_count": 3,
     "metadata": {},
     "output_type": "execute_result"
    }
   ],
   "source": [
    "css()"
   ]
  },
  {
   "cell_type": "markdown",
   "metadata": {},
   "source": [
    "### Import modules, maybe update with overwrite=True"
   ]
  },
  {
   "cell_type": "code",
   "execution_count": 4,
   "metadata": {},
   "outputs": [
    {
     "data": {
      "text/markdown": [
       "Updated file `C:\\Users\\larsj\\Documents\\GitHub\\Tutorial-DHN2019\\graph_networkx_louvain.py`"
      ],
      "text/plain": [
       "<IPython.core.display.Markdown object>"
      ]
     },
     "metadata": {},
     "output_type": "display_data"
    },
    {
     "data": {
      "text/markdown": [
       "Updated file `C:\\Users\\larsj\\Documents\\GitHub\\Tutorial-DHN2019\\nbtext.py`"
      ],
      "text/plain": [
       "<IPython.core.display.Markdown object>"
      ]
     },
     "metadata": {},
     "output_type": "display_data"
    }
   ],
   "source": [
    "update('graph_networkx_louvain')\n",
    "update('nbtext', overwrite=True)\n",
    "import nbtext as nb\n",
    "import graph_networkx_louvain as gnl\n",
    "from graph_networkx_louvain import cutdown, make_collocation_graph\n",
    "%matplotlib inline"
   ]
  },
  {
   "cell_type": "markdown",
   "metadata": {
    "slideshow": {
     "slide_type": "slide"
    }
   },
   "source": [
    "## Build a corpus\n",
    "\n",
    "Use URNs to build corpus. They can be fetched from various sources, like word documents, text files or just cut and paste. \n"
   ]
  },
  {
   "cell_type": "markdown",
   "metadata": {},
   "source": [
    "### Using API metadata\n",
    "\n",
    "dewey, emneord, navn , år, etc. Her kan [Webdewey](http://deweysearchno.pansoft.de/webdeweysearch/index.html) være til god hjelp."
   ]
  },
  {
   "cell_type": "code",
   "execution_count": 5,
   "metadata": {},
   "outputs": [],
   "source": [
    "korpus = nb.book_urn(author='Mykle%',period=(1950,1990))"
   ]
  },
  {
   "cell_type": "markdown",
   "metadata": {},
   "source": [
    "## Analyse"
   ]
  },
  {
   "cell_type": "code",
   "execution_count": 7,
   "metadata": {},
   "outputs": [
    {
     "data": {
      "text/html": [
       "<table><tr>\n",
       "                <td>\n",
       "                    <a href='http://www.nb.no/items/URN:NBN:no-nb_digibok_2008060200088?searchText=kvinner' target='_blank' style='text-decoration:none'>Bosetningsutviklingen i Norge 1950-1975, Myklebost, Hallstein, 1978</a>\n",
       "                </td>\n",
       "                <td>av</td>\n",
       "                <td>kvinner</td>\n",
       "                <td style='text-align:left'>i fødedyktig alder . Disse</td>\n",
       "            </tr>\n",
       "<tr>\n",
       "                <td>\n",
       "                    <a href='http://www.nb.no/items/URN:NBN:no-nb_digibok_2008060200088?searchText=kvinner' target='_blank' style='text-decoration:none'>Bosetningsutviklingen i Norge 1950-1975, Myklebost, Hallstein, 1978</a>\n",
       "                </td>\n",
       "                <td>, jfr. reduksjonen av Rødøy-Gildeskåls</td>\n",
       "                <td>kvinner</td>\n",
       "                <td style='text-align:left'>født 1946 - 50 med</td>\n",
       "            </tr>\n",
       "<tr>\n",
       "                <td>\n",
       "                    <a href='http://www.nb.no/items/URN:NBN:no-nb_digibok_2008060200088?searchText=kvinner' target='_blank' style='text-decoration:none'>Bosetningsutviklingen i Norge 1950-1975, Myklebost, Hallstein, 1978</a>\n",
       "                </td>\n",
       "                <td>en relativt betydelig differens for</td>\n",
       "                <td>kvinner</td>\n",
       "                <td style='text-align:left'>på 40 og over ,</td>\n",
       "            </tr>\n",
       "<tr>\n",
       "                <td>\n",
       "                    <a href='http://www.nb.no/items/URN:NBN:no-nb_digibok_2008060200088?searchText=kvinner' target='_blank' style='text-decoration:none'>Bosetningsutviklingen i Norge 1950-1975, Myklebost, Hallstein, 1978</a>\n",
       "                </td>\n",
       "                <td>ellers var barn . Gruppen</td>\n",
       "                <td>kvinner</td>\n",
       "                <td style='text-align:left'>15 - 24 år ,</td>\n",
       "            </tr>\n",
       "<tr>\n",
       "                <td>\n",
       "                    <a href='http://www.nb.no/items/URN:NBN:no-nb_digibok_2008060200088?searchText=kvinner' target='_blank' style='text-decoration:none'>Bosetningsutviklingen i Norge 1950-1975, Myklebost, Hallstein, 1978</a>\n",
       "                </td>\n",
       "                <td>trass i at betydelig flere</td>\n",
       "                <td>kvinner</td>\n",
       "                <td style='text-align:left'>ble regnet med til jordbruk</td>\n",
       "            </tr>\n",
       "<tr>\n",
       "                <td>\n",
       "                    <a href='http://www.nb.no/items/URN:NBN:no-nb_digibok_2013071705162?searchText=kvinner' target='_blank' style='text-decoration:none'>Lag en lekeplass!, Myklevoll, Per Ivar, 1976</a>\n",
       "                </td>\n",
       "                <td>3 - 4 menn eller</td>\n",
       "                <td>kvinner</td>\n",
       "                <td style='text-align:left'>fint . Det er verken</td>\n",
       "            </tr>\n",
       "<tr>\n",
       "                <td>\n",
       "                    <a href='http://www.nb.no/items/URN:NBN:no-nb_digibok_2009072701020?searchText=kvinner' target='_blank' style='text-decoration:none'>Økonomisk og teknologisk rasjonalitet i antikken, Myklebust, Sissel, 1990</a>\n",
       "                </td>\n",
       "                <td>voksne mannlige borgere . Med</td>\n",
       "                <td>kvinner</td>\n",
       "                <td style='text-align:left'>og barn utgjorde borgerbefolkningen anslagsvis</td>\n",
       "            </tr>\n",
       "<tr>\n",
       "                <td>\n",
       "                    <a href='http://www.nb.no/items/URN:NBN:no-nb_digibok_2009072701020?searchText=kvinner' target='_blank' style='text-decoration:none'>Økonomisk og teknologisk rasjonalitet i antikken, Myklebust, Sissel, 1990</a>\n",
       "                </td>\n",
       "                <td>enn dette og metoikene med</td>\n",
       "                <td>kvinner</td>\n",
       "                <td style='text-align:left'>og barn mellom 29 og</td>\n",
       "            </tr>\n",
       "<tr>\n",
       "                <td>\n",
       "                    <a href='http://www.nb.no/items/URN:NBN:no-nb_digibok_2013092306102?searchText=kvinner' target='_blank' style='text-decoration:none'>Nord-Amerikas indianere, Myklebust, Terje, 1980</a>\n",
       "                </td>\n",
       "                <td>omkring 1020. Her var også</td>\n",
       "                <td>kvinner</td>\n",
       "                <td style='text-align:left'>med , og tanken var</td>\n",
       "            </tr>\n",
       "<tr>\n",
       "                <td>\n",
       "                    <a href='http://www.nb.no/items/URN:NBN:no-nb_digibok_2013092306102?searchText=kvinner' target='_blank' style='text-decoration:none'>Nord-Amerikas indianere, Myklebust, Terje, 1980</a>\n",
       "                </td>\n",
       "                <td>Meadows , var det også</td>\n",
       "                <td>kvinner</td>\n",
       "                <td style='text-align:left'>. Det fortalte videre at</td>\n",
       "            </tr>\n",
       "<tr>\n",
       "                <td>\n",
       "                    <a href='http://www.nb.no/items/URN:NBN:no-nb_digibok_2013092306102?searchText=kvinner' target='_blank' style='text-decoration:none'>Nord-Amerikas indianere, Myklebust, Terje, 1980</a>\n",
       "                </td>\n",
       "                <td>på sin store landnåmsferd hadde</td>\n",
       "                <td>kvinner</td>\n",
       "                <td style='text-align:left'>med , deriblant konen Gudfrid</td>\n",
       "            </tr>\n",
       "<tr>\n",
       "                <td>\n",
       "                    <a href='http://www.nb.no/items/URN:NBN:no-nb_digibok_2013092306102?searchText=kvinner' target='_blank' style='text-decoration:none'>Nord-Amerikas indianere, Myklebust, Terje, 1980</a>\n",
       "                </td>\n",
       "                <td>snarer for småvilt kunne også</td>\n",
       "                <td>kvinner</td>\n",
       "                <td style='text-align:left'>sette opp.På den annen side</td>\n",
       "            </tr>\n",
       "<tr>\n",
       "                <td>\n",
       "                    <a href='http://www.nb.no/items/URN:NBN:no-nb_digibok_2013092306102?searchText=kvinner' target='_blank' style='text-decoration:none'>Nord-Amerikas indianere, Myklebust, Terje, 1980</a>\n",
       "                </td>\n",
       "                <td>i denne tiden kunne bare</td>\n",
       "                <td>kvinner</td>\n",
       "                <td style='text-align:left'>som hadde passert overgangsalderen besøke</td>\n",
       "            </tr>\n",
       "<tr>\n",
       "                <td>\n",
       "                    <a href='http://www.nb.no/items/URN:NBN:no-nb_digibok_2012021608098?searchText=kvinner' target='_blank' style='text-decoration:none'>Skulen i lokalkulturen, Myklebust, Jon Olav, 1972</a>\n",
       "                </td>\n",
       "                <td>ein markert mangel på unge</td>\n",
       "                <td>kvinner</td>\n",
       "                <td style='text-align:left'>i alle fire kommunane .</td>\n",
       "            </tr>\n",
       "<tr>\n",
       "                <td>\n",
       "                    <a href='http://www.nb.no/items/URN:NBN:no-nb_digibok_2012021608098?searchText=kvinner' target='_blank' style='text-decoration:none'>Skulen i lokalkulturen, Myklebust, Jon Olav, 1972</a>\n",
       "                </td>\n",
       "                <td>med det dårlege arbeidstilbodet for</td>\n",
       "                <td>kvinner</td>\n",
       "                <td style='text-align:left'>på bygdene . Ein langt</td>\n",
       "            </tr>\n",
       "<tr>\n",
       "                <td>\n",
       "                    <a href='http://www.nb.no/items/URN:NBN:no-nb_digibok_2012021608098?searchText=kvinner' target='_blank' style='text-decoration:none'>Skulen i lokalkulturen, Myklebust, Jon Olav, 1972</a>\n",
       "                </td>\n",
       "                <td>kjønnsproporsjonen ( menn pr. 100</td>\n",
       "                <td>kvinner</td>\n",
       "                <td style='text-align:left'>) for kategorien 20 -</td>\n",
       "            </tr>\n",
       "<tr>\n",
       "                <td>\n",
       "                    <a href='http://www.nb.no/items/URN:NBN:no-nb_digibok_2012021608098?searchText=kvinner' target='_blank' style='text-decoration:none'>Skulen i lokalkulturen, Myklebust, Jon Olav, 1972</a>\n",
       "                </td>\n",
       "                <td>markert kvinneunderskot ( særleg unge</td>\n",
       "                <td>kvinner</td>\n",
       "                <td style='text-align:left'>) , og dette er</td>\n",
       "            </tr>\n",
       "<tr>\n",
       "                <td>\n",
       "                    <a href='http://www.nb.no/items/URN:NBN:no-nb_digibok_2012021608098?searchText=kvinner' target='_blank' style='text-decoration:none'>Skulen i lokalkulturen, Myklebust, Jon Olav, 1972</a>\n",
       "                </td>\n",
       "                <td>Særleg er fråfallet stort for</td>\n",
       "                <td>kvinner</td>\n",
       "                <td style='text-align:left'>rundt 20 år . Vidare</td>\n",
       "            </tr>\n",
       "<tr>\n",
       "                <td>\n",
       "                    <a href='http://www.nb.no/items/URN:NBN:no-nb_digibok_2012080208181?searchText=kvinner' target='_blank' style='text-decoration:none'>Flyttestraumar i 1985, Myklebust, Jon Olav, 1987</a>\n",
       "                </td>\n",
       "                <td>. For både menn og</td>\n",
       "                <td>kvinner</td>\n",
       "                <td style='text-align:left'>er utflyttinga rundt tre gonger</td>\n",
       "            </tr>\n",
       "<tr>\n",
       "                <td>\n",
       "                    <a href='http://www.nb.no/items/URN:NBN:no-nb_digibok_2012080208181?searchText=kvinner' target='_blank' style='text-decoration:none'>Flyttestraumar i 1985, Myklebust, Jon Olav, 1987</a>\n",
       "                </td>\n",
       "                <td>for menn 34 og for</td>\n",
       "                <td>kvinner</td>\n",
       "                <td style='text-align:left'>39.</td>\n",
       "            </tr>\n",
       "<tr>\n",
       "                <td>\n",
       "                    <a href='http://www.nb.no/items/URN:NBN:no-nb_digibok_2012080208181?searchText=kvinner' target='_blank' style='text-decoration:none'>Flyttestraumar i 1985, Myklebust, Jon Olav, 1987</a>\n",
       "                </td>\n",
       "                <td>for</td>\n",
       "                <td>kvinner</td>\n",
       "                <td style='text-align:left'>. Det er eit mønster</td>\n",
       "            </tr>\n",
       "<tr>\n",
       "                <td>\n",
       "                    <a href='http://www.nb.no/items/URN:NBN:no-nb_digibok_2012080208181?searchText=kvinner' target='_blank' style='text-decoration:none'>Flyttestraumar i 1985, Myklebust, Jon Olav, 1987</a>\n",
       "                </td>\n",
       "                <td>for menn og 23 for</td>\n",
       "                <td>kvinner</td>\n",
       "                <td style='text-align:left'>None</td>\n",
       "            </tr>\n",
       "<tr>\n",
       "                <td>\n",
       "                    <a href='http://www.nb.no/items/URN:NBN:no-nb_digibok_2012080208181?searchText=kvinner' target='_blank' style='text-decoration:none'>Flyttestraumar i 1985, Myklebust, Jon Olav, 1987</a>\n",
       "                </td>\n",
       "                <td>stort for menn som for</td>\n",
       "                <td>kvinner</td>\n",
       "                <td style='text-align:left'>.</td>\n",
       "            </tr>\n",
       "<tr>\n",
       "                <td>\n",
       "                    <a href='http://www.nb.no/items/URN:NBN:no-nb_digibok_2012062206011?searchText=kvinner' target='_blank' style='text-decoration:none'>Lag en lekeplass!, Myklevoll, Per Ivar, 1975</a>\n",
       "                </td>\n",
       "                <td>3 - 4 menn eller</td>\n",
       "                <td>kvinner</td>\n",
       "                <td style='text-align:left'>fint . Det er verken</td>\n",
       "            </tr>\n",
       "<tr>\n",
       "                <td>\n",
       "                    <a href='http://www.nb.no/items/URN:NBN:no-nb_digibok_2007051504051?searchText=kvinner' target='_blank' style='text-decoration:none'>Largo, Mykle, Agnar, 1967</a>\n",
       "                </td>\n",
       "                <td>urettferdig innrettet? Her har alle</td>\n",
       "                <td>kvinner</td>\n",
       "                <td style='text-align:left'>, alle eldre kvinner ,</td>\n",
       "            </tr>\n",
       "<tr>\n",
       "                <td>\n",
       "                    <a href='http://www.nb.no/items/URN:NBN:no-nb_digibok_2007051504051?searchText=kvinner' target='_blank' style='text-decoration:none'>Largo, Mykle, Agnar, 1967</a>\n",
       "                </td>\n",
       "                <td>alle kvinner , alle eldre</td>\n",
       "                <td>kvinner</td>\n",
       "                <td style='text-align:left'>, full frihet til å</td>\n",
       "            </tr>\n",
       "<tr>\n",
       "                <td>\n",
       "                    <a href='http://www.nb.no/items/URN:NBN:no-nb_digibok_2007051504051?searchText=kvinner' target='_blank' style='text-decoration:none'>Largo, Mykle, Agnar, 1967</a>\n",
       "                </td>\n",
       "                <td>og det gjaldt ikke bare</td>\n",
       "                <td>kvinner</td>\n",
       "                <td style='text-align:left'>i familien : han mintes</td>\n",
       "            </tr>\n",
       "<tr>\n",
       "                <td>\n",
       "                    <a href='http://www.nb.no/items/URN:NBN:no-nb_digibok_2010061006059?searchText=kvinner' target='_blank' style='text-decoration:none'>Hva får vi ut av lederutvikling?, Mykletun, Reidar J., 1989</a>\n",
       "                </td>\n",
       "                <td>administrasjon og saksbehandling , og</td>\n",
       "                <td>kvinner</td>\n",
       "                <td style='text-align:left'>og ledelse . Slik var</td>\n",
       "            </tr>\n",
       "<tr>\n",
       "                <td>\n",
       "                    <a href='http://www.nb.no/items/URN:NBN:no-nb_digibok_2010061006059?searchText=kvinner' target='_blank' style='text-decoration:none'>Hva får vi ut av lederutvikling?, Mykletun, Reidar J., 1989</a>\n",
       "                </td>\n",
       "                <td>, medarbeidersamtaler , tidsdisponering, og</td>\n",
       "                <td>kvinner</td>\n",
       "                <td style='text-align:left'>og ledelse . Det ble</td>\n",
       "            </tr>\n",
       "<tr>\n",
       "                <td>\n",
       "                    <a href='http://www.nb.no/items/URN:NBN:no-nb_digibok_2010061006059?searchText=kvinner' target='_blank' style='text-decoration:none'>Hva får vi ut av lederutvikling?, Mykletun, Reidar J., 1989</a>\n",
       "                </td>\n",
       "                <td>Okt Videre arbeid med</td>\n",
       "                <td>kvinner</td>\n",
       "                <td style='text-align:left'>og ledelse</td>\n",
       "            </tr>\n",
       "<tr>\n",
       "                <td>\n",
       "                    <a href='http://www.nb.no/items/URN:NBN:no-nb_digibok_2010061006059?searchText=kvinner' target='_blank' style='text-decoration:none'>Hva får vi ut av lederutvikling?, Mykletun, Reidar J., 1989</a>\n",
       "                </td>\n",
       "                <td>/ lederroller , målstyring ,</td>\n",
       "                <td>kvinner</td>\n",
       "                <td style='text-align:left'>og ledelse , og organisasjonskultur</td>\n",
       "            </tr>\n",
       "<tr>\n",
       "                <td>\n",
       "                    <a href='http://www.nb.no/items/URN:NBN:no-nb_digibok_2010061006059?searchText=kvinner' target='_blank' style='text-decoration:none'>Hva får vi ut av lederutvikling?, Mykletun, Reidar J., 1989</a>\n",
       "                </td>\n",
       "                <td>De fleste styrere er dessuten</td>\n",
       "                <td>kvinner</td>\n",
       "                <td style='text-align:left'>, og en antok i</td>\n",
       "            </tr>\n",
       "</table>"
      ],
      "text/plain": [
       "<IPython.core.display.HTML object>"
      ]
     },
     "execution_count": 7,
     "metadata": {},
     "output_type": "execute_result"
    }
   ],
   "source": [
    "nb.urn_concordance(word='kvinner', urns = korpus)"
   ]
  },
  {
   "cell_type": "code",
   "execution_count": 8,
   "metadata": {},
   "outputs": [
    {
     "data": {
      "text/html": [
       "<table><tr><td><a href='http://www.nb.no/items/URN:NBN:no-nb_digibok_2014111807582?searchText=han' target='_'>Nesjar, Carl,Carl Nesjar,2005</a></td><td>norsk malerkunst . Samtidig sto</td><td>han</td><td style='text-align:left'>i første rekke da fotografiet</td></tr>\n",
       "<tr><td><a href='http://www.nb.no/items/URN:NBN:no-nb_digibok_2014111807582?searchText=han' target='_'>Nesjar, Carl,Carl Nesjar,2005</a></td><td>kunstforeningen i hjembyen - at</td><td>han</td><td style='text-align:left'>hadde sin debututstilling i 1934</td></tr>\n",
       "<tr><td><a href='http://www.nb.no/items/URN:NBN:no-nb_digibok_2014111807582?searchText=han' target='_'>Nesjar, Carl,Carl Nesjar,2005</a></td><td>Institute , og nå kontaktet</td><td>han</td><td style='text-align:left'>Carls far for å tilby</td></tr>\n",
       "<tr><td><a href='http://www.nb.no/items/URN:NBN:no-nb_digibok_2014111807582?searchText=han' target='_'>Nesjar, Carl,Carl Nesjar,2005</a></td><td>om at det var kunstner</td><td>han</td><td style='text-align:left'>ville bli .</td></tr>\n",
       "<tr><td><a href='http://www.nb.no/items/URN:NBN:no-nb_digibok_2014111807582?searchText=han' target='_'>Nesjar, Carl,Carl Nesjar,2005</a></td><td>som 14 - åring kunne</td><td>han</td><td style='text-align:left'>debutere med « retrospektiv »</td></tr>\n",
       "<tr><td><a href='http://www.nb.no/items/URN:NBN:no-nb_digibok_2012052508103?searchText=han' target='_'>Ryen, Asbjørn,Nørdalen,1994</a></td><td>ned til ledertiuren , iler</td><td>han</td><td style='text-align:left'>til og leder dem varsomtforan</td></tr>\n",
       "<tr><td><a href='http://www.nb.no/items/URN:NBN:no-nb_digibok_2012052508103?searchText=han' target='_'>Ryen, Asbjørn,Nørdalen,1994</a></td><td>er her oppe på tua</td><td>han</td><td style='text-align:left'>vil samle dem alle omkring</td></tr>\n",
       "<tr><td><a href='http://www.nb.no/items/URN:NBN:no-nb_digibok_2012052508103?searchText=han' target='_'>Ryen, Asbjørn,Nørdalen,1994</a></td><td>seg . Som en gjeterhundfarer</td><td>han</td><td style='text-align:left'>avgarde for å hente nye</td></tr>\n",
       "<tr><td><a href='http://www.nb.no/items/URN:NBN:no-nb_digibok_2012052508103?searchText=han' target='_'>Ryen, Asbjørn,Nørdalen,1994</a></td><td>jage ham vekk , setter</td><td>han</td><td style='text-align:left'>seg opp . Slagsmålet er</td></tr>\n",
       "<tr><td><a href='http://www.nb.no/items/URN:NBN:no-nb_digibok_2012052508103?searchText=han' target='_'>Ryen, Asbjørn,Nørdalen,1994</a></td><td>og holder ham fast mens</td><td>han</td><td style='text-align:left'>hamrer løs med vingeknokene .</td></tr>\n",
       "<tr><td><a href='http://www.nb.no/items/URN:NBN:no-nb_digibok_2012101507065?searchText=han' target='_'>Storm, Hakon,I fengselet og arbeidsanstalt på gater og torv,2012</a></td><td>, som så ut som</td><td>han</td><td style='text-align:left'>kunne ta hele skaren med</td></tr>\n",
       "<tr><td><a href='http://www.nb.no/items/URN:NBN:no-nb_digibok_2012101507065?searchText=han' target='_'>Storm, Hakon,I fengselet og arbeidsanstalt på gater og torv,2012</a></td><td>vognen , det var den</td><td>han</td><td style='text-align:left'>hadde lyst til å føle</td></tr>\n",
       "<tr><td><a href='http://www.nb.no/items/URN:NBN:no-nb_digibok_2012101507065?searchText=han' target='_'>Storm, Hakon,I fengselet og arbeidsanstalt på gater og torv,2012</a></td><td>på fortauet . Der ble</td><td>han</td><td style='text-align:left'>stående fullstendig stille og rolig</td></tr>\n",
       "<tr><td><a href='http://www.nb.no/items/URN:NBN:no-nb_digibok_2012101507065?searchText=han' target='_'>Storm, Hakon,I fengselet og arbeidsanstalt på gater og torv,2012</a></td><td>fornemmelser vi spurte Herren hva</td><td>han</td><td style='text-align:left'>mente med dette . Så</td></tr>\n",
       "<tr><td><a href='http://www.nb.no/items/URN:NBN:no-nb_digibok_2012101507065?searchText=han' target='_'>Storm, Hakon,I fengselet og arbeidsanstalt på gater og torv,2012</a></td><td>over til : \" Og</td><td>han</td><td style='text-align:left'>ynkedes inderlig over folket \"</td></tr>\n",
       "<tr><td><a href='http://www.nb.no/items/URN:NBN:no-nb_digibok_2009070304010?searchText=han' target='_'>Dahl, Espen,Den som har, ham skal gis,1997</a></td><td>. Gjennom stimulerende diskusjoner har</td><td>han</td><td style='text-align:left'>lært meg mye om dette</td></tr>\n",
       "<tr><td><a href='http://www.nb.no/items/URN:NBN:no-nb_digibok_2009070304010?searchText=han' target='_'>Dahl, Espen,Den som har, ham skal gis,1997</a></td><td>og metodisk . Dessuten har</td><td>han</td><td style='text-align:left'>sjenerøst delt sine SPSS-programmer som</td></tr>\n",
       "<tr><td><a href='http://www.nb.no/items/URN:NBN:no-nb_digibok_2009070304010?searchText=han' target='_'>Dahl, Espen,Den som har, ham skal gis,1997</a></td><td>, og heldigvis , har</td><td>han</td><td style='text-align:left'>gitt kommentarer og nødvendige korrektiver</td></tr>\n",
       "<tr><td><a href='http://www.nb.no/items/URN:NBN:no-nb_digibok_2015090906067?searchText=han' target='_'>Booth, Stephen,Djevelhunden,2009</a></td><td>svarte prikker , helt til</td><td>han</td><td style='text-align:left'>la hodet på skakke for</td></tr>\n",
       "<tr><td><a href='http://www.nb.no/items/URN:NBN:no-nb_digibok_2015090906067?searchText=han' target='_'>Booth, Stephen,Djevelhunden,2009</a></td><td>imot dragningen. Men følelsesmessig ble</td><td>han</td><td style='text-align:left'>trukket i to retninger .</td></tr>\n",
       "<tr><td><a href='http://www.nb.no/items/URN:NBN:no-nb_digibok_2015090906067?searchText=han' target='_'>Booth, Stephen,Djevelhunden,2009</a></td><td>viste ingen tegn til at</td><td>han</td><td style='text-align:left'>kom til å oppgi hva</td></tr>\n",
       "<tr><td><a href='http://www.nb.no/items/URN:NBN:no-nb_digibok_2015090906067?searchText=han' target='_'>Booth, Stephen,Djevelhunden,2009</a></td><td>hva det nå enn var</td><td>han</td><td style='text-align:left'>hadde bestemt seg for å</td></tr>\n",
       "<tr><td><a href='http://www.nb.no/items/URN:NBN:no-nb_digibok_2015090906067?searchText=han' target='_'>Booth, Stephen,Djevelhunden,2009</a></td><td>Han visste hva hun ønsket</td><td>han</td><td style='text-align:left'>skulle gjøre nå . Men</td></tr>\n",
       "</table>"
      ],
      "text/plain": [
       "<IPython.core.display.HTML object>"
      ]
     },
     "execution_count": 8,
     "metadata": {},
     "output_type": "execute_result"
    }
   ],
   "source": [
    "nb.concordance(word='han', corpus='bok', yearfrom=1990)"
   ]
  }
 ],
 "metadata": {
  "kernelspec": {
   "display_name": "Python 3",
   "language": "python",
   "name": "python3"
  },
  "language_info": {
   "codemirror_mode": {
    "name": "ipython",
    "version": 3
   },
   "file_extension": ".py",
   "mimetype": "text/x-python",
   "name": "python",
   "nbconvert_exporter": "python",
   "pygments_lexer": "ipython3",
   "version": "3.7.1"
  }
 },
 "nbformat": 4,
 "nbformat_minor": 2
}
